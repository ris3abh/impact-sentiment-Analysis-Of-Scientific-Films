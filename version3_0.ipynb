{
 "cells": [
  {
   "cell_type": "code",
   "execution_count": 58,
   "metadata": {},
   "outputs": [],
   "source": [
    "import pandas as pd\n",
    "import numpy as np\n",
    "import matplotlib.pyplot as plt\n",
    "import seaborn as sns"
   ]
  },
  {
   "cell_type": "code",
   "execution_count": 59,
   "metadata": {},
   "outputs": [],
   "source": [
    "## the objective of this file is to analyze the imact of scientific films on the society\n",
    "## from previous models it is sure that the model is getting overfit\n",
    "df = pd.read_csv('./data/final_annotations.csv')\n",
    "\n",
    "df.drop([\"sentiments\", \"impacts\", \"film_title\", \"batch\"], axis = 1, inplace = True)"
   ]
  },
  {
   "cell_type": "code",
   "execution_count": 60,
   "metadata": {},
   "outputs": [
    {
     "data": {
      "text/html": [
       "<div>\n",
       "<style scoped>\n",
       "    .dataframe tbody tr th:only-of-type {\n",
       "        vertical-align: middle;\n",
       "    }\n",
       "\n",
       "    .dataframe tbody tr th {\n",
       "        vertical-align: top;\n",
       "    }\n",
       "\n",
       "    .dataframe thead th {\n",
       "        text-align: right;\n",
       "    }\n",
       "</style>\n",
       "<table border=\"1\" class=\"dataframe\">\n",
       "  <thead>\n",
       "    <tr style=\"text-align: right;\">\n",
       "      <th></th>\n",
       "      <th>sentence</th>\n",
       "      <th>sentiment</th>\n",
       "      <th>impact</th>\n",
       "    </tr>\n",
       "  </thead>\n",
       "  <tbody>\n",
       "    <tr>\n",
       "      <th>0</th>\n",
       "      <td>Good restraint on the use of adjectives.</td>\n",
       "      <td>Positive</td>\n",
       "      <td>Engagement with Film</td>\n",
       "    </tr>\n",
       "    <tr>\n",
       "      <th>1</th>\n",
       "      <td>Enjoy seeing/tracking storms....fascinating...</td>\n",
       "      <td>Positive</td>\n",
       "      <td>Interest with Science Topic</td>\n",
       "    </tr>\n",
       "    <tr>\n",
       "      <th>2</th>\n",
       "      <td>The sound design, visuals and narration are bl...</td>\n",
       "      <td>Positive</td>\n",
       "      <td>Engagement with Film</td>\n",
       "    </tr>\n",
       "    <tr>\n",
       "      <th>3</th>\n",
       "      <td>Richard Dormer had a calming voice that made t...</td>\n",
       "      <td>Positive</td>\n",
       "      <td>Engagement with Film</td>\n",
       "    </tr>\n",
       "    <tr>\n",
       "      <th>4</th>\n",
       "      <td>So many never seen before images and actual pi...</td>\n",
       "      <td>Positive</td>\n",
       "      <td>Engagement with Film</td>\n",
       "    </tr>\n",
       "  </tbody>\n",
       "</table>\n",
       "</div>"
      ],
      "text/plain": [
       "                                            sentence sentiment  \\\n",
       "0          Good restraint on the use of adjectives.   Positive   \n",
       "1    Enjoy seeing/tracking storms....fascinating...   Positive   \n",
       "2  The sound design, visuals and narration are bl...  Positive   \n",
       "3  Richard Dormer had a calming voice that made t...  Positive   \n",
       "4  So many never seen before images and actual pi...  Positive   \n",
       "\n",
       "                        impact  \n",
       "0         Engagement with Film  \n",
       "1  Interest with Science Topic  \n",
       "2         Engagement with Film  \n",
       "3         Engagement with Film  \n",
       "4         Engagement with Film  "
      ]
     },
     "execution_count": 60,
     "metadata": {},
     "output_type": "execute_result"
    }
   ],
   "source": [
    "df.head()"
   ]
  },
  {
   "cell_type": "code",
   "execution_count": 61,
   "metadata": {},
   "outputs": [],
   "source": [
    "df.drop_duplicates(inplace = True)"
   ]
  },
  {
   "cell_type": "code",
   "execution_count": 62,
   "metadata": {},
   "outputs": [],
   "source": [
    "## lets make a model for sentiment analysis first using XGBoost and weight balancing\n",
    "\n",
    "from sklearn.model_selection import train_test_split\n",
    "from sklearn.metrics import accuracy_score, confusion_matrix, classification_report\n",
    "from sklearn.utils import class_weight\n",
    "from xgboost import XGBClassifier\n",
    "\n",
    "X_1 = df.drop([\"sentiment\", \"impact\"], axis = 1)\n",
    "y_1 = df[\"sentiment\"]"
   ]
  },
  {
   "cell_type": "code",
   "execution_count": 63,
   "metadata": {},
   "outputs": [],
   "source": [
    "y_1 = y_1.map({\"Positive\": 0, \"Negative\": 1, \"Neutral\": 2})"
   ]
  },
  {
   "cell_type": "code",
   "execution_count": 64,
   "metadata": {},
   "outputs": [],
   "source": [
    "## using bag of words method to convert the text to vectors with stopwords removed and lemmitization\n",
    "import re\n",
    "from sklearn.feature_extraction.text import CountVectorizer\n",
    "from nltk.stem import WordNetLemmatizer\n",
    "from nltk.corpus import stopwords\n",
    "\n",
    "stop_words = set(stopwords.words('english'))\n",
    "\n",
    "def lemmatize_text(text):\n",
    "    lemmatizer = WordNetLemmatizer()\n",
    "    text = text.lower()\n",
    "    text = re.sub('[^a-zA-Z]', ' ', text)\n",
    "    return [lemmatizer.lemmatize(word) for word in text.split() if word not in stop_words]\n",
    "\n",
    "vectorizer = CountVectorizer(stop_words = stop_words, tokenizer = lemmatize_text)\n",
    "X_1 = vectorizer.fit_transform(df[\"sentence\"])"
   ]
  },
  {
   "cell_type": "code",
   "execution_count": 65,
   "metadata": {},
   "outputs": [
    {
     "data": {
      "text/plain": [
       "{0: 0.6312375249500998, 1: 1.1335125448028673, 2: 1.874074074074074}"
      ]
     },
     "execution_count": 65,
     "metadata": {},
     "output_type": "execute_result"
    }
   ],
   "source": [
    "\n",
    "class_weights = class_weight.compute_class_weight(\n",
    "                                        class_weight = \"balanced\",\n",
    "                                        classes = np.unique(y_1),\n",
    "                                        y = y_1                                                    \n",
    "                                    )\n",
    "class_weights = dict(zip(np.unique(y_1), class_weights))\n",
    "class_weights"
   ]
  },
  {
   "cell_type": "code",
   "execution_count": 66,
   "metadata": {},
   "outputs": [],
   "source": [
    "## using stratify to make sure that the distribution of classes is same in train and test\n",
    "X_train, X_test, y_train, y_test = train_test_split(X_1, y_1, test_size = 0.2, stratify = y_1)"
   ]
  },
  {
   "cell_type": "code",
   "execution_count": 67,
   "metadata": {},
   "outputs": [],
   "source": [
    "## looking at bag of words dictionary\n",
    "from imblearn.over_sampling import SMOTE\n",
    "\n",
    "smote = SMOTE(random_state = 42)\n",
    "X_test, y_test = smote.fit_resample(X_test, y_test)"
   ]
  },
  {
   "attachments": {},
   "cell_type": "markdown",
   "metadata": {},
   "source": [
    "## XGBoost Classifier"
   ]
  },
  {
   "cell_type": "code",
   "execution_count": 68,
   "metadata": {},
   "outputs": [
    {
     "data": {
      "text/html": [
       "<style>#sk-container-id-4 {color: black;background-color: white;}#sk-container-id-4 pre{padding: 0;}#sk-container-id-4 div.sk-toggleable {background-color: white;}#sk-container-id-4 label.sk-toggleable__label {cursor: pointer;display: block;width: 100%;margin-bottom: 0;padding: 0.3em;box-sizing: border-box;text-align: center;}#sk-container-id-4 label.sk-toggleable__label-arrow:before {content: \"▸\";float: left;margin-right: 0.25em;color: #696969;}#sk-container-id-4 label.sk-toggleable__label-arrow:hover:before {color: black;}#sk-container-id-4 div.sk-estimator:hover label.sk-toggleable__label-arrow:before {color: black;}#sk-container-id-4 div.sk-toggleable__content {max-height: 0;max-width: 0;overflow: hidden;text-align: left;background-color: #f0f8ff;}#sk-container-id-4 div.sk-toggleable__content pre {margin: 0.2em;color: black;border-radius: 0.25em;background-color: #f0f8ff;}#sk-container-id-4 input.sk-toggleable__control:checked~div.sk-toggleable__content {max-height: 200px;max-width: 100%;overflow: auto;}#sk-container-id-4 input.sk-toggleable__control:checked~label.sk-toggleable__label-arrow:before {content: \"▾\";}#sk-container-id-4 div.sk-estimator input.sk-toggleable__control:checked~label.sk-toggleable__label {background-color: #d4ebff;}#sk-container-id-4 div.sk-label input.sk-toggleable__control:checked~label.sk-toggleable__label {background-color: #d4ebff;}#sk-container-id-4 input.sk-hidden--visually {border: 0;clip: rect(1px 1px 1px 1px);clip: rect(1px, 1px, 1px, 1px);height: 1px;margin: -1px;overflow: hidden;padding: 0;position: absolute;width: 1px;}#sk-container-id-4 div.sk-estimator {font-family: monospace;background-color: #f0f8ff;border: 1px dotted black;border-radius: 0.25em;box-sizing: border-box;margin-bottom: 0.5em;}#sk-container-id-4 div.sk-estimator:hover {background-color: #d4ebff;}#sk-container-id-4 div.sk-parallel-item::after {content: \"\";width: 100%;border-bottom: 1px solid gray;flex-grow: 1;}#sk-container-id-4 div.sk-label:hover label.sk-toggleable__label {background-color: #d4ebff;}#sk-container-id-4 div.sk-serial::before {content: \"\";position: absolute;border-left: 1px solid gray;box-sizing: border-box;top: 0;bottom: 0;left: 50%;z-index: 0;}#sk-container-id-4 div.sk-serial {display: flex;flex-direction: column;align-items: center;background-color: white;padding-right: 0.2em;padding-left: 0.2em;position: relative;}#sk-container-id-4 div.sk-item {position: relative;z-index: 1;}#sk-container-id-4 div.sk-parallel {display: flex;align-items: stretch;justify-content: center;background-color: white;position: relative;}#sk-container-id-4 div.sk-item::before, #sk-container-id-4 div.sk-parallel-item::before {content: \"\";position: absolute;border-left: 1px solid gray;box-sizing: border-box;top: 0;bottom: 0;left: 50%;z-index: -1;}#sk-container-id-4 div.sk-parallel-item {display: flex;flex-direction: column;z-index: 1;position: relative;background-color: white;}#sk-container-id-4 div.sk-parallel-item:first-child::after {align-self: flex-end;width: 50%;}#sk-container-id-4 div.sk-parallel-item:last-child::after {align-self: flex-start;width: 50%;}#sk-container-id-4 div.sk-parallel-item:only-child::after {width: 0;}#sk-container-id-4 div.sk-dashed-wrapped {border: 1px dashed gray;margin: 0 0.4em 0.5em 0.4em;box-sizing: border-box;padding-bottom: 0.4em;background-color: white;}#sk-container-id-4 div.sk-label label {font-family: monospace;font-weight: bold;display: inline-block;line-height: 1.2em;}#sk-container-id-4 div.sk-label-container {text-align: center;}#sk-container-id-4 div.sk-container {/* jupyter's `normalize.less` sets `[hidden] { display: none; }` but bootstrap.min.css set `[hidden] { display: none !important; }` so we also need the `!important` here to be able to override the default hidden behavior on the sphinx rendered scikit-learn.org. See: https://github.com/scikit-learn/scikit-learn/issues/21755 */display: inline-block !important;position: relative;}#sk-container-id-4 div.sk-text-repr-fallback {display: none;}</style><div id=\"sk-container-id-4\" class=\"sk-top-container\"><div class=\"sk-text-repr-fallback\"><pre>XGBClassifier(base_score=0.5, booster=&#x27;gbtree&#x27;, callbacks=None,\n",
       "              colsample_bylevel=1, colsample_bynode=1, colsample_bytree=1,\n",
       "              early_stopping_rounds=None, enable_categorical=False,\n",
       "              eval_metric=None, feature_types=None, gamma=0, gpu_id=-1,\n",
       "              grow_policy=&#x27;depthwise&#x27;, importance_type=None,\n",
       "              interaction_constraints=&#x27;&#x27;, learning_rate=0.300000012,\n",
       "              max_bin=256, max_cat_threshold=64, max_cat_to_onehot=4,\n",
       "              max_delta_step=0, max_depth=6, max_leaves=0, min_child_weight=1,\n",
       "              missing=nan, monotone_constraints=&#x27;()&#x27;, n_estimators=100,\n",
       "              n_jobs=0, num_parallel_tree=1, objective=&#x27;multi:softprob&#x27;,\n",
       "              predictor=&#x27;auto&#x27;, ...)</pre><b>In a Jupyter environment, please rerun this cell to show the HTML representation or trust the notebook. <br />On GitHub, the HTML representation is unable to render, please try loading this page with nbviewer.org.</b></div><div class=\"sk-container\" hidden><div class=\"sk-item\"><div class=\"sk-estimator sk-toggleable\"><input class=\"sk-toggleable__control sk-hidden--visually\" id=\"sk-estimator-id-4\" type=\"checkbox\" checked><label for=\"sk-estimator-id-4\" class=\"sk-toggleable__label sk-toggleable__label-arrow\">XGBClassifier</label><div class=\"sk-toggleable__content\"><pre>XGBClassifier(base_score=0.5, booster=&#x27;gbtree&#x27;, callbacks=None,\n",
       "              colsample_bylevel=1, colsample_bynode=1, colsample_bytree=1,\n",
       "              early_stopping_rounds=None, enable_categorical=False,\n",
       "              eval_metric=None, feature_types=None, gamma=0, gpu_id=-1,\n",
       "              grow_policy=&#x27;depthwise&#x27;, importance_type=None,\n",
       "              interaction_constraints=&#x27;&#x27;, learning_rate=0.300000012,\n",
       "              max_bin=256, max_cat_threshold=64, max_cat_to_onehot=4,\n",
       "              max_delta_step=0, max_depth=6, max_leaves=0, min_child_weight=1,\n",
       "              missing=nan, monotone_constraints=&#x27;()&#x27;, n_estimators=100,\n",
       "              n_jobs=0, num_parallel_tree=1, objective=&#x27;multi:softprob&#x27;,\n",
       "              predictor=&#x27;auto&#x27;, ...)</pre></div></div></div></div></div>"
      ],
      "text/plain": [
       "XGBClassifier(base_score=0.5, booster='gbtree', callbacks=None,\n",
       "              colsample_bylevel=1, colsample_bynode=1, colsample_bytree=1,\n",
       "              early_stopping_rounds=None, enable_categorical=False,\n",
       "              eval_metric=None, feature_types=None, gamma=0, gpu_id=-1,\n",
       "              grow_policy='depthwise', importance_type=None,\n",
       "              interaction_constraints='', learning_rate=0.300000012,\n",
       "              max_bin=256, max_cat_threshold=64, max_cat_to_onehot=4,\n",
       "              max_delta_step=0, max_depth=6, max_leaves=0, min_child_weight=1,\n",
       "              missing=nan, monotone_constraints='()', n_estimators=100,\n",
       "              n_jobs=0, num_parallel_tree=1, objective='multi:softprob',\n",
       "              predictor='auto', ...)"
      ]
     },
     "execution_count": 68,
     "metadata": {},
     "output_type": "execute_result"
    }
   ],
   "source": [
    "model1 = XGBClassifier()\n",
    "\n",
    "model1.fit(X_train, y_train, sample_weight = y_train.map(class_weights))"
   ]
  },
  {
   "cell_type": "code",
   "execution_count": 69,
   "metadata": {},
   "outputs": [
    {
     "name": "stdout",
     "output_type": "stream",
     "text": [
      "Accuracy on train set:  0.8478260869565217\n"
     ]
    }
   ],
   "source": [
    "y_pred = model1.predict(X_train)\n",
    "\n",
    "print(\"Accuracy on train set: \", accuracy_score(y_train, y_pred))"
   ]
  },
  {
   "cell_type": "code",
   "execution_count": 70,
   "metadata": {},
   "outputs": [
    {
     "name": "stdout",
     "output_type": "stream",
     "text": [
      "Classification Report on train set:                precision    recall  f1-score   support\n",
      "\n",
      "           0       0.97      0.79      0.87       534\n",
      "           1       0.86      0.87      0.86       298\n",
      "           2       0.64      0.98      0.77       180\n",
      "\n",
      "    accuracy                           0.85      1012\n",
      "   macro avg       0.82      0.88      0.84      1012\n",
      "weighted avg       0.88      0.85      0.85      1012\n",
      "\n"
     ]
    }
   ],
   "source": [
    "print(\"Classification Report on train set: \", classification_report(y_train, y_pred))"
   ]
  },
  {
   "cell_type": "code",
   "execution_count": 71,
   "metadata": {},
   "outputs": [
    {
     "data": {
      "text/plain": [
       "<AxesSubplot: >"
      ]
     },
     "execution_count": 71,
     "metadata": {},
     "output_type": "execute_result"
    },
    {
     "data": {
      "image/png": "[encoded data removed]",
      "text/plain": [
       "<Figure size 640x480 with 2 Axes>"
      ]
     },
     "metadata": {},
     "output_type": "display_data"
    }
   ],
   "source": [
    "## plotting the confusion matrix\n",
    "\n",
    "cm = confusion_matrix(y_train, y_pred)\n",
    "\n",
    "sns.heatmap(cm, annot = True, fmt = \"d\")"
   ]
  },
  {
   "cell_type": "code",
   "execution_count": 72,
   "metadata": {},
   "outputs": [
    {
     "name": "stdout",
     "output_type": "stream",
     "text": [
      "Accuracy on test set:  0.5970149253731343\n",
      "Classification Report on test set:                precision    recall  f1-score   support\n",
      "\n",
      "           0       0.66      0.61      0.63       134\n",
      "           1       0.62      0.50      0.55       134\n",
      "           2       0.54      0.68      0.60       134\n",
      "\n",
      "    accuracy                           0.60       402\n",
      "   macro avg       0.60      0.60      0.60       402\n",
      "weighted avg       0.60      0.60      0.60       402\n",
      "\n"
     ]
    },
    {
     "data": {
      "text/plain": [
       "<AxesSubplot: >"
      ]
     },
     "execution_count": 72,
     "metadata": {},
     "output_type": "execute_result"
    },
    {
     "data": {
      "image/png": "[encoded data removed]",
      "text/plain": [
       "<Figure size 640x480 with 2 Axes>"
      ]
     },
     "metadata": {},
     "output_type": "display_data"
    }
   ],
   "source": [
    "y_pred_test = model1.predict(X_test)\n",
    "\n",
    "print(\"Accuracy on test set: \", accuracy_score(y_test, y_pred_test))\n",
    "\n",
    "print(\"Classification Report on test set: \", classification_report(y_test, y_pred_test))\n",
    "\n",
    "## plotting the confusion matrix\n",
    "\n",
    "cm = confusion_matrix(y_test, y_pred_test)\n",
    "sns.heatmap(cm, annot = True, fmt = \"d\")"
   ]
  },
  {
   "cell_type": "code",
   "execution_count": 73,
   "metadata": {},
   "outputs": [
    {
     "data": {
      "text/plain": [
       "Engagement with Film           768\n",
       "Not applicable                 193\n",
       "Shift in Knowledge             142\n",
       "Interest with Science Topic     89\n",
       "Impersonal Report               41\n",
       "Name: impact, dtype: int64"
      ]
     },
     "execution_count": 73,
     "metadata": {},
     "output_type": "execute_result"
    }
   ],
   "source": [
    "df = df[df[\"impact\"] != \"TBD\"]\n",
    "\n",
    "df.dropna(inplace = True)\n",
    "\n",
    "y = df[\"impact\"]\n",
    "X = df[\"sentence\"]\n",
    "\n",
    "y.value_counts()"
   ]
  },
  {
   "cell_type": "code",
   "execution_count": 74,
   "metadata": {},
   "outputs": [],
   "source": [
    "X = vectorizer.transform(X)"
   ]
  },
  {
   "cell_type": "code",
   "execution_count": 75,
   "metadata": {},
   "outputs": [],
   "source": [
    "y = y.map({\"Engagement with Film\": 0, \"Not applicable\": 1, \"Shift in Knowledge\": 2, \"Interest with Science Topic\":3, \"Impersonal Report\":4 })"
   ]
  },
  {
   "cell_type": "code",
   "execution_count": 76,
   "metadata": {},
   "outputs": [
    {
     "data": {
      "text/plain": [
       "0    768\n",
       "1    193\n",
       "2    142\n",
       "3     89\n",
       "4     41\n",
       "Name: impact, dtype: int64"
      ]
     },
     "execution_count": 76,
     "metadata": {},
     "output_type": "execute_result"
    }
   ],
   "source": [
    "y.value_counts()"
   ]
  },
  {
   "cell_type": "code",
   "execution_count": 31,
   "metadata": {},
   "outputs": [],
   "source": [
    "class_weights = class_weight.compute_class_weight(\n",
    "                                        class_weight = \"balanced\",\n",
    "                                        classes = np.unique(y),\n",
    "                                        y = y                                                    \n",
    "                                    )\n",
    "class_weights = dict(zip(np.unique(y), class_weights))"
   ]
  },
  {
   "cell_type": "markdown",
   "metadata": {},
   "source": []
  },
  {
   "cell_type": "code",
   "execution_count": 39,
   "metadata": {},
   "outputs": [
    {
     "name": "stdout",
     "output_type": "stream",
     "text": [
      "[0]\tvalidation_0-mlogloss:1.28284\n",
      "[1]\tvalidation_0-mlogloss:1.09362\n",
      "[2]\tvalidation_0-mlogloss:0.96805\n",
      "[3]\tvalidation_0-mlogloss:0.87763\n",
      "[4]\tvalidation_0-mlogloss:0.80522\n",
      "[5]\tvalidation_0-mlogloss:0.75497\n",
      "[6]\tvalidation_0-mlogloss:0.71294\n",
      "[7]\tvalidation_0-mlogloss:0.67983\n",
      "[8]\tvalidation_0-mlogloss:0.65283\n",
      "[9]\tvalidation_0-mlogloss:0.62814\n",
      "[10]\tvalidation_0-mlogloss:0.60756\n",
      "[11]\tvalidation_0-mlogloss:0.59449\n",
      "[12]\tvalidation_0-mlogloss:0.57912\n",
      "[13]\tvalidation_0-mlogloss:0.56674\n"
     ]
    },
    {
     "name": "stderr",
     "output_type": "stream",
     "text": [
      "/opt/homebrew/lib/python3.10/site-packages/xgboost/sklearn.py:861: UserWarning: `eval_metric` in `fit` method is deprecated for better compatibility with scikit-learn, use `eval_metric` in constructor or`set_params` instead.\n",
      "  warnings.warn(\n"
     ]
    },
    {
     "name": "stdout",
     "output_type": "stream",
     "text": [
      "[14]\tvalidation_0-mlogloss:0.55852\n",
      "[15]\tvalidation_0-mlogloss:0.54777\n",
      "[16]\tvalidation_0-mlogloss:0.53798\n",
      "[17]\tvalidation_0-mlogloss:0.52920\n",
      "[18]\tvalidation_0-mlogloss:0.52219\n",
      "[19]\tvalidation_0-mlogloss:0.51621\n",
      "[20]\tvalidation_0-mlogloss:0.50997\n",
      "[21]\tvalidation_0-mlogloss:0.50580\n",
      "[22]\tvalidation_0-mlogloss:0.49869\n",
      "[23]\tvalidation_0-mlogloss:0.49472\n",
      "[24]\tvalidation_0-mlogloss:0.48881\n",
      "[25]\tvalidation_0-mlogloss:0.48439\n",
      "[26]\tvalidation_0-mlogloss:0.47979\n",
      "[27]\tvalidation_0-mlogloss:0.47403\n",
      "[28]\tvalidation_0-mlogloss:0.47161\n",
      "[29]\tvalidation_0-mlogloss:0.47024\n",
      "[30]\tvalidation_0-mlogloss:0.46754\n",
      "[31]\tvalidation_0-mlogloss:0.46415\n",
      "[32]\tvalidation_0-mlogloss:0.46095\n",
      "[33]\tvalidation_0-mlogloss:0.45701\n",
      "[34]\tvalidation_0-mlogloss:0.45419\n",
      "[35]\tvalidation_0-mlogloss:0.45113\n",
      "[36]\tvalidation_0-mlogloss:0.44936\n",
      "[37]\tvalidation_0-mlogloss:0.44636\n",
      "[38]\tvalidation_0-mlogloss:0.44416\n",
      "[39]\tvalidation_0-mlogloss:0.44321\n",
      "[40]\tvalidation_0-mlogloss:0.44128\n",
      "[41]\tvalidation_0-mlogloss:0.43937\n",
      "[42]\tvalidation_0-mlogloss:0.43764\n",
      "[43]\tvalidation_0-mlogloss:0.43594\n",
      "[44]\tvalidation_0-mlogloss:0.43380\n",
      "[45]\tvalidation_0-mlogloss:0.43215\n",
      "[46]\tvalidation_0-mlogloss:0.42957\n",
      "[47]\tvalidation_0-mlogloss:0.42842\n",
      "[48]\tvalidation_0-mlogloss:0.42619\n",
      "[49]\tvalidation_0-mlogloss:0.42409\n",
      "[50]\tvalidation_0-mlogloss:0.42234\n",
      "[51]\tvalidation_0-mlogloss:0.42046\n",
      "[52]\tvalidation_0-mlogloss:0.41851\n",
      "[53]\tvalidation_0-mlogloss:0.41612\n",
      "[54]\tvalidation_0-mlogloss:0.41491\n",
      "[55]\tvalidation_0-mlogloss:0.41236\n",
      "[56]\tvalidation_0-mlogloss:0.41155\n",
      "[57]\tvalidation_0-mlogloss:0.41065\n",
      "[58]\tvalidation_0-mlogloss:0.40908\n",
      "[59]\tvalidation_0-mlogloss:0.40768\n",
      "[60]\tvalidation_0-mlogloss:0.40703\n",
      "[61]\tvalidation_0-mlogloss:0.40616\n",
      "[62]\tvalidation_0-mlogloss:0.40437\n",
      "[63]\tvalidation_0-mlogloss:0.40319\n",
      "[64]\tvalidation_0-mlogloss:0.40287\n",
      "[65]\tvalidation_0-mlogloss:0.40049\n",
      "[66]\tvalidation_0-mlogloss:0.39935\n",
      "[67]\tvalidation_0-mlogloss:0.39851\n",
      "[68]\tvalidation_0-mlogloss:0.39764\n",
      "[69]\tvalidation_0-mlogloss:0.39646\n",
      "[70]\tvalidation_0-mlogloss:0.39628\n",
      "[71]\tvalidation_0-mlogloss:0.39483\n",
      "[72]\tvalidation_0-mlogloss:0.39329\n",
      "[73]\tvalidation_0-mlogloss:0.39217\n",
      "[74]\tvalidation_0-mlogloss:0.39183\n",
      "[75]\tvalidation_0-mlogloss:0.39147\n",
      "[76]\tvalidation_0-mlogloss:0.39039\n",
      "[77]\tvalidation_0-mlogloss:0.38962\n",
      "[78]\tvalidation_0-mlogloss:0.38961\n",
      "[79]\tvalidation_0-mlogloss:0.38926\n",
      "[80]\tvalidation_0-mlogloss:0.38819\n",
      "[81]\tvalidation_0-mlogloss:0.38787\n",
      "[82]\tvalidation_0-mlogloss:0.38634\n",
      "[83]\tvalidation_0-mlogloss:0.38618\n",
      "[84]\tvalidation_0-mlogloss:0.38554\n",
      "[85]\tvalidation_0-mlogloss:0.38495\n",
      "[86]\tvalidation_0-mlogloss:0.38421\n",
      "[87]\tvalidation_0-mlogloss:0.38367\n",
      "[88]\tvalidation_0-mlogloss:0.38297\n",
      "[89]\tvalidation_0-mlogloss:0.38230\n",
      "[90]\tvalidation_0-mlogloss:0.38196\n",
      "[91]\tvalidation_0-mlogloss:0.38032\n",
      "[92]\tvalidation_0-mlogloss:0.38001\n",
      "[93]\tvalidation_0-mlogloss:0.37864\n",
      "[94]\tvalidation_0-mlogloss:0.37849\n",
      "[95]\tvalidation_0-mlogloss:0.37903\n",
      "[96]\tvalidation_0-mlogloss:0.37887\n",
      "[97]\tvalidation_0-mlogloss:0.37765\n",
      "[98]\tvalidation_0-mlogloss:0.37748\n",
      "[99]\tvalidation_0-mlogloss:0.37772\n"
     ]
    },
    {
     "data": {
      "text/html": [
       "<style>#sk-container-id-3 {color: black;background-color: white;}#sk-container-id-3 pre{padding: 0;}#sk-container-id-3 div.sk-toggleable {background-color: white;}#sk-container-id-3 label.sk-toggleable__label {cursor: pointer;display: block;width: 100%;margin-bottom: 0;padding: 0.3em;box-sizing: border-box;text-align: center;}#sk-container-id-3 label.sk-toggleable__label-arrow:before {content: \"▸\";float: left;margin-right: 0.25em;color: #696969;}#sk-container-id-3 label.sk-toggleable__label-arrow:hover:before {color: black;}#sk-container-id-3 div.sk-estimator:hover label.sk-toggleable__label-arrow:before {color: black;}#sk-container-id-3 div.sk-toggleable__content {max-height: 0;max-width: 0;overflow: hidden;text-align: left;background-color: #f0f8ff;}#sk-container-id-3 div.sk-toggleable__content pre {margin: 0.2em;color: black;border-radius: 0.25em;background-color: #f0f8ff;}#sk-container-id-3 input.sk-toggleable__control:checked~div.sk-toggleable__content {max-height: 200px;max-width: 100%;overflow: auto;}#sk-container-id-3 input.sk-toggleable__control:checked~label.sk-toggleable__label-arrow:before {content: \"▾\";}#sk-container-id-3 div.sk-estimator input.sk-toggleable__control:checked~label.sk-toggleable__label {background-color: #d4ebff;}#sk-container-id-3 div.sk-label input.sk-toggleable__control:checked~label.sk-toggleable__label {background-color: #d4ebff;}#sk-container-id-3 input.sk-hidden--visually {border: 0;clip: rect(1px 1px 1px 1px);clip: rect(1px, 1px, 1px, 1px);height: 1px;margin: -1px;overflow: hidden;padding: 0;position: absolute;width: 1px;}#sk-container-id-3 div.sk-estimator {font-family: monospace;background-color: #f0f8ff;border: 1px dotted black;border-radius: 0.25em;box-sizing: border-box;margin-bottom: 0.5em;}#sk-container-id-3 div.sk-estimator:hover {background-color: #d4ebff;}#sk-container-id-3 div.sk-parallel-item::after {content: \"\";width: 100%;border-bottom: 1px solid gray;flex-grow: 1;}#sk-container-id-3 div.sk-label:hover label.sk-toggleable__label {background-color: #d4ebff;}#sk-container-id-3 div.sk-serial::before {content: \"\";position: absolute;border-left: 1px solid gray;box-sizing: border-box;top: 0;bottom: 0;left: 50%;z-index: 0;}#sk-container-id-3 div.sk-serial {display: flex;flex-direction: column;align-items: center;background-color: white;padding-right: 0.2em;padding-left: 0.2em;position: relative;}#sk-container-id-3 div.sk-item {position: relative;z-index: 1;}#sk-container-id-3 div.sk-parallel {display: flex;align-items: stretch;justify-content: center;background-color: white;position: relative;}#sk-container-id-3 div.sk-item::before, #sk-container-id-3 div.sk-parallel-item::before {content: \"\";position: absolute;border-left: 1px solid gray;box-sizing: border-box;top: 0;bottom: 0;left: 50%;z-index: -1;}#sk-container-id-3 div.sk-parallel-item {display: flex;flex-direction: column;z-index: 1;position: relative;background-color: white;}#sk-container-id-3 div.sk-parallel-item:first-child::after {align-self: flex-end;width: 50%;}#sk-container-id-3 div.sk-parallel-item:last-child::after {align-self: flex-start;width: 50%;}#sk-container-id-3 div.sk-parallel-item:only-child::after {width: 0;}#sk-container-id-3 div.sk-dashed-wrapped {border: 1px dashed gray;margin: 0 0.4em 0.5em 0.4em;box-sizing: border-box;padding-bottom: 0.4em;background-color: white;}#sk-container-id-3 div.sk-label label {font-family: monospace;font-weight: bold;display: inline-block;line-height: 1.2em;}#sk-container-id-3 div.sk-label-container {text-align: center;}#sk-container-id-3 div.sk-container {/* jupyter's `normalize.less` sets `[hidden] { display: none; }` but bootstrap.min.css set `[hidden] { display: none !important; }` so we also need the `!important` here to be able to override the default hidden behavior on the sphinx rendered scikit-learn.org. See: https://github.com/scikit-learn/scikit-learn/issues/21755 */display: inline-block !important;position: relative;}#sk-container-id-3 div.sk-text-repr-fallback {display: none;}</style><div id=\"sk-container-id-3\" class=\"sk-top-container\"><div class=\"sk-text-repr-fallback\"><pre>XGBClassifier(base_score=0.5, booster=&#x27;gbtree&#x27;, callbacks=None,\n",
       "              colsample_bylevel=1, colsample_bynode=1, colsample_bytree=1,\n",
       "              early_stopping_rounds=None, enable_categorical=False,\n",
       "              eval_metric=None, feature_types=None, gamma=0, gpu_id=-1,\n",
       "              grow_policy=&#x27;depthwise&#x27;, importance_type=None,\n",
       "              interaction_constraints=&#x27;&#x27;, learning_rate=0.300000012,\n",
       "              max_bin=256, max_cat_threshold=64, max_cat_to_onehot=4,\n",
       "              max_delta_step=0, max_depth=6, max_leaves=0, min_child_weight=1,\n",
       "              missing=nan, monotone_constraints=&#x27;()&#x27;, n_estimators=100,\n",
       "              n_jobs=0, num_parallel_tree=1, objective=&#x27;multi:softprob&#x27;,\n",
       "              predictor=&#x27;auto&#x27;, ...)</pre><b>In a Jupyter environment, please rerun this cell to show the HTML representation or trust the notebook. <br />On GitHub, the HTML representation is unable to render, please try loading this page with nbviewer.org.</b></div><div class=\"sk-container\" hidden><div class=\"sk-item\"><div class=\"sk-estimator sk-toggleable\"><input class=\"sk-toggleable__control sk-hidden--visually\" id=\"sk-estimator-id-3\" type=\"checkbox\" checked><label for=\"sk-estimator-id-3\" class=\"sk-toggleable__label sk-toggleable__label-arrow\">XGBClassifier</label><div class=\"sk-toggleable__content\"><pre>XGBClassifier(base_score=0.5, booster=&#x27;gbtree&#x27;, callbacks=None,\n",
       "              colsample_bylevel=1, colsample_bynode=1, colsample_bytree=1,\n",
       "              early_stopping_rounds=None, enable_categorical=False,\n",
       "              eval_metric=None, feature_types=None, gamma=0, gpu_id=-1,\n",
       "              grow_policy=&#x27;depthwise&#x27;, importance_type=None,\n",
       "              interaction_constraints=&#x27;&#x27;, learning_rate=0.300000012,\n",
       "              max_bin=256, max_cat_threshold=64, max_cat_to_onehot=4,\n",
       "              max_delta_step=0, max_depth=6, max_leaves=0, min_child_weight=1,\n",
       "              missing=nan, monotone_constraints=&#x27;()&#x27;, n_estimators=100,\n",
       "              n_jobs=0, num_parallel_tree=1, objective=&#x27;multi:softprob&#x27;,\n",
       "              predictor=&#x27;auto&#x27;, ...)</pre></div></div></div></div></div>"
      ],
      "text/plain": [
       "XGBClassifier(base_score=0.5, booster='gbtree', callbacks=None,\n",
       "              colsample_bylevel=1, colsample_bynode=1, colsample_bytree=1,\n",
       "              early_stopping_rounds=None, enable_categorical=False,\n",
       "              eval_metric=None, feature_types=None, gamma=0, gpu_id=-1,\n",
       "              grow_policy='depthwise', importance_type=None,\n",
       "              interaction_constraints='', learning_rate=0.300000012,\n",
       "              max_bin=256, max_cat_threshold=64, max_cat_to_onehot=4,\n",
       "              max_delta_step=0, max_depth=6, max_leaves=0, min_child_weight=1,\n",
       "              missing=nan, monotone_constraints='()', n_estimators=100,\n",
       "              n_jobs=0, num_parallel_tree=1, objective='multi:softprob',\n",
       "              predictor='auto', ...)"
      ]
     },
     "execution_count": 39,
     "metadata": {},
     "output_type": "execute_result"
    }
   ],
   "source": [
    "X_train, X_test, y_train, y_test = train_test_split(X, y, test_size = 0.2, stratify = y)\n",
    "\n",
    "model2 = XGBClassifier()\n",
    "\n",
    "model2.fit(X_train, y_train, sample_weight = y_train.map(class_weights), eval_metric = \"mlogloss\", eval_set = [(X_test, y_test)])"
   ]
  },
  {
   "cell_type": "code",
   "execution_count": 40,
   "metadata": {},
   "outputs": [
    {
     "name": "stdout",
     "output_type": "stream",
     "text": [
      "Accuracy on train set:  0.9518229166666666\n"
     ]
    }
   ],
   "source": [
    "y_pred = model2.predict(X_train)\n",
    "\n",
    "print(\"Accuracy on train set: \", accuracy_score(y_train, y_pred))"
   ]
  },
  {
   "cell_type": "code",
   "execution_count": 41,
   "metadata": {},
   "outputs": [
    {
     "name": "stdout",
     "output_type": "stream",
     "text": [
      "Classification Report on train set: \n",
      "               precision    recall  f1-score   support\n",
      "\n",
      "           0       0.94      0.85      0.89       614\n",
      "           1       0.86      0.99      0.92       615\n",
      "           2       0.98      0.96      0.97       614\n",
      "           3       1.00      0.96      0.98       614\n",
      "           4       1.00      1.00      1.00       615\n",
      "\n",
      "    accuracy                           0.95      3072\n",
      "   macro avg       0.95      0.95      0.95      3072\n",
      "weighted avg       0.95      0.95      0.95      3072\n",
      "\n"
     ]
    }
   ],
   "source": [
    "\n",
    "print(\"Classification Report on train set: \\n\", classification_report(y_train, y_pred))"
   ]
  },
  {
   "cell_type": "code",
   "execution_count": 42,
   "metadata": {},
   "outputs": [
    {
     "data": {
      "text/plain": [
       "<AxesSubplot: >"
      ]
     },
     "execution_count": 42,
     "metadata": {},
     "output_type": "execute_result"
    },
    {
     "data": {
      "image/png": "[encoded data removed]",
      "text/plain": [
       "<Figure size 640x480 with 2 Axes>"
      ]
     },
     "metadata": {},
     "output_type": "display_data"
    }
   ],
   "source": [
    "## plotting the confusion matrix\n",
    "xm = confusion_matrix(y_train, y_pred)\n",
    "sns.heatmap(xm, annot = True, fmt = \"d\")"
   ]
  },
  {
   "cell_type": "code",
   "execution_count": 43,
   "metadata": {},
   "outputs": [
    {
     "name": "stdout",
     "output_type": "stream",
     "text": [
      "Accuracy on test set:  0.8723958333333334\n"
     ]
    }
   ],
   "source": [
    "y_pred = model2.predict(X_test)\n",
    "\n",
    "print(\"Accuracy on test set: \", accuracy_score(y_test, y_pred))"
   ]
  },
  {
   "cell_type": "code",
   "execution_count": 44,
   "metadata": {},
   "outputs": [
    {
     "name": "stdout",
     "output_type": "stream",
     "text": [
      "Classification Report on test set: \n",
      "               precision    recall  f1-score   support\n",
      "\n",
      "           0       0.77      0.73      0.75       154\n",
      "           1       0.75      0.95      0.84       153\n",
      "           2       0.94      0.84      0.89       154\n",
      "           3       0.95      0.91      0.93       154\n",
      "           4       0.99      0.93      0.96       153\n",
      "\n",
      "    accuracy                           0.87       768\n",
      "   macro avg       0.88      0.87      0.87       768\n",
      "weighted avg       0.88      0.87      0.87       768\n",
      "\n"
     ]
    }
   ],
   "source": [
    "print(\"Classification Report on test set: \\n\", classification_report(y_test, y_pred))"
   ]
  },
  {
   "cell_type": "code",
   "execution_count": 46,
   "metadata": {},
   "outputs": [
    {
     "data": {
      "text/plain": [
       "<AxesSubplot: >"
      ]
     },
     "execution_count": 46,
     "metadata": {},
     "output_type": "execute_result"
    },
    {
     "data": {
      "image/png": "[encoded data removed]",
      "text/plain": [
       "<Figure size 640x480 with 2 Axes>"
      ]
     },
     "metadata": {},
     "output_type": "display_data"
    }
   ],
   "source": [
    "## plotting the confusion matrix\n",
    "xm = confusion_matrix(y_test, y_pred)\n",
    "sns.heatmap(xm, annot = True, fmt = \"d\")"
   ]
  },
  {
   "attachments": {},
   "cell_type": "markdown",
   "metadata": {},
   "source": [
    "1. Use new data.\n",
    "2. Use smote for only the testing data.(if this can be done)\n",
    "3. Stratified cross validation."
   ]
  },
  {
   "cell_type": "code",
   "execution_count": 49,
   "metadata": {},
   "outputs": [
    {
     "name": "stdout",
     "output_type": "stream",
     "text": [
      "[0]\tvalidation_0-mlogloss:1.27342\n",
      "[1]\tvalidation_0-mlogloss:1.09197\n",
      "[2]\tvalidation_0-mlogloss:0.96600\n",
      "[3]\tvalidation_0-mlogloss:0.87811\n",
      "[4]\tvalidation_0-mlogloss:0.80791\n",
      "[5]\tvalidation_0-mlogloss:0.75335\n",
      "[6]\tvalidation_0-mlogloss:0.70834\n",
      "[7]\tvalidation_0-mlogloss:0.67485\n",
      "[8]\tvalidation_0-mlogloss:0.64223\n",
      "[9]\tvalidation_0-mlogloss:0.61926\n",
      "[10]\tvalidation_0-mlogloss:0.59928\n",
      "[11]\tvalidation_0-mlogloss:0.58194\n",
      "[12]\tvalidation_0-mlogloss:0.56500\n",
      "[13]\tvalidation_0-mlogloss:0.55297\n",
      "[14]\tvalidation_0-mlogloss:0.54052\n",
      "[15]\tvalidation_0-mlogloss:0.52924\n",
      "[16]\tvalidation_0-mlogloss:0.52060\n",
      "[17]\tvalidation_0-mlogloss:0.51073\n",
      "[18]\tvalidation_0-mlogloss:0.50213\n",
      "[19]\tvalidation_0-mlogloss:0.49496\n",
      "[20]\tvalidation_0-mlogloss:0.49015\n",
      "[21]\tvalidation_0-mlogloss:0.48200\n",
      "[22]\tvalidation_0-mlogloss:0.47720\n",
      "[23]\tvalidation_0-mlogloss:0.47028\n",
      "[24]\tvalidation_0-mlogloss:0.46662\n",
      "[25]\tvalidation_0-mlogloss:0.46338\n",
      "[26]\tvalidation_0-mlogloss:0.45844\n",
      "[27]\tvalidation_0-mlogloss:0.45396\n",
      "[28]\tvalidation_0-mlogloss:0.44919\n",
      "[29]\tvalidation_0-mlogloss:0.44532\n",
      "[30]\tvalidation_0-mlogloss:0.44204\n",
      "[31]\tvalidation_0-mlogloss:0.43783\n",
      "[32]\tvalidation_0-mlogloss:0.43318\n",
      "[33]\tvalidation_0-mlogloss:0.43041\n",
      "[34]\tvalidation_0-mlogloss:0.42696\n",
      "[35]\tvalidation_0-mlogloss:0.42457\n",
      "[36]\tvalidation_0-mlogloss:0.42274\n",
      "[37]\tvalidation_0-mlogloss:0.41948\n",
      "[38]\tvalidation_0-mlogloss:0.41619\n",
      "[39]\tvalidation_0-mlogloss:0.41380\n",
      "[40]\tvalidation_0-mlogloss:0.41202\n",
      "[41]\tvalidation_0-mlogloss:0.40903\n",
      "[42]\tvalidation_0-mlogloss:0.40797\n",
      "[43]\tvalidation_0-mlogloss:0.40515\n",
      "[44]\tvalidation_0-mlogloss:0.40278\n",
      "[45]\tvalidation_0-mlogloss:0.40080\n",
      "[46]\tvalidation_0-mlogloss:0.39838\n",
      "[47]\tvalidation_0-mlogloss:0.39747\n",
      "[48]\tvalidation_0-mlogloss:0.39620\n",
      "[49]\tvalidation_0-mlogloss:0.39368\n",
      "[50]\tvalidation_0-mlogloss:0.39162\n",
      "[51]\tvalidation_0-mlogloss:0.38912\n",
      "[52]\tvalidation_0-mlogloss:0.38758\n",
      "[53]\tvalidation_0-mlogloss:0.38719\n",
      "[54]\tvalidation_0-mlogloss:0.38520\n",
      "[55]\tvalidation_0-mlogloss:0.38425\n",
      "[56]\tvalidation_0-mlogloss:0.38275\n",
      "[57]\tvalidation_0-mlogloss:0.38037\n",
      "[58]\tvalidation_0-mlogloss:0.37935\n",
      "[59]\tvalidation_0-mlogloss:0.37806\n",
      "[60]\tvalidation_0-mlogloss:0.37655\n",
      "[61]\tvalidation_0-mlogloss:0.37629\n",
      "[62]\tvalidation_0-mlogloss:0.37425\n",
      "[63]\tvalidation_0-mlogloss:0.37292\n",
      "[64]\tvalidation_0-mlogloss:0.37266\n",
      "[65]\tvalidation_0-mlogloss:0.37069\n",
      "[66]\tvalidation_0-mlogloss:0.37075\n",
      "[67]\tvalidation_0-mlogloss:0.36944\n",
      "[68]\tvalidation_0-mlogloss:0.36866\n",
      "[69]\tvalidation_0-mlogloss:0.36710\n",
      "[70]\tvalidation_0-mlogloss:0.36624\n",
      "[71]\tvalidation_0-mlogloss:0.36504\n",
      "[72]\tvalidation_0-mlogloss:0.36370\n",
      "[73]\tvalidation_0-mlogloss:0.36185\n",
      "[74]\tvalidation_0-mlogloss:0.36132\n",
      "[75]\tvalidation_0-mlogloss:0.36068\n",
      "[76]\tvalidation_0-mlogloss:0.36026\n",
      "[77]\tvalidation_0-mlogloss:0.35951\n",
      "[78]\tvalidation_0-mlogloss:0.35782\n",
      "[79]\tvalidation_0-mlogloss:0.35756\n",
      "[80]\tvalidation_0-mlogloss:0.35682\n",
      "[81]\tvalidation_0-mlogloss:0.35681\n",
      "[82]\tvalidation_0-mlogloss:0.35676\n",
      "[83]\tvalidation_0-mlogloss:0.35526\n",
      "[84]\tvalidation_0-mlogloss:0.35430\n",
      "[85]\tvalidation_0-mlogloss:0.35407\n",
      "[86]\tvalidation_0-mlogloss:0.35352\n",
      "[87]\tvalidation_0-mlogloss:0.35335\n",
      "[88]\tvalidation_0-mlogloss:0.35343\n",
      "[89]\tvalidation_0-mlogloss:0.35294\n",
      "[90]\tvalidation_0-mlogloss:0.35225\n",
      "[91]\tvalidation_0-mlogloss:0.35105\n",
      "[92]\tvalidation_0-mlogloss:0.34997\n",
      "[93]\tvalidation_0-mlogloss:0.34942\n",
      "[94]\tvalidation_0-mlogloss:0.35014\n",
      "[95]\tvalidation_0-mlogloss:0.35018\n",
      "[96]\tvalidation_0-mlogloss:0.34978\n",
      "[97]\tvalidation_0-mlogloss:0.34909\n",
      "[98]\tvalidation_0-mlogloss:0.34858\n",
      "[99]\tvalidation_0-mlogloss:0.34863\n",
      "Accuracy on test set:  0.8763020833333334\n",
      "Classification Report on test set: \n",
      "               precision    recall  f1-score   support\n",
      "\n",
      "           0       0.80      0.66      0.72       154\n",
      "           1       0.74      0.98      0.85       153\n",
      "           2       0.94      0.86      0.90       154\n",
      "           3       0.95      0.91      0.93       154\n",
      "           4       0.99      0.97      0.98       153\n",
      "\n",
      "    accuracy                           0.88       768\n",
      "   macro avg       0.88      0.88      0.88       768\n",
      "weighted avg       0.88      0.88      0.88       768\n",
      "\n"
     ]
    },
    {
     "data": {
      "image/png": "[encoded data removed]",
      "text/plain": [
       "<Figure size 1000x1000 with 2 Axes>"
      ]
     },
     "metadata": {},
     "output_type": "display_data"
    },
    {
     "name": "stdout",
     "output_type": "stream",
     "text": [
      "\n",
      "\n",
      "final accuracy:  0.8763020833333334\n",
      "[0]\tvalidation_0-mlogloss:1.26983\n",
      "[1]\tvalidation_0-mlogloss:1.08843\n",
      "[2]\tvalidation_0-mlogloss:0.96234\n",
      "[3]\tvalidation_0-mlogloss:0.87532\n",
      "[4]\tvalidation_0-mlogloss:0.80481\n",
      "[5]\tvalidation_0-mlogloss:0.75299\n",
      "[6]\tvalidation_0-mlogloss:0.71053\n",
      "[7]\tvalidation_0-mlogloss:0.67452\n",
      "[8]\tvalidation_0-mlogloss:0.64889\n",
      "[9]\tvalidation_0-mlogloss:0.62492\n",
      "[10]\tvalidation_0-mlogloss:0.60534\n",
      "[11]\tvalidation_0-mlogloss:0.58985\n",
      "[12]\tvalidation_0-mlogloss:0.57358\n",
      "[13]\tvalidation_0-mlogloss:0.56053\n",
      "[14]\tvalidation_0-mlogloss:0.54958\n",
      "[15]\tvalidation_0-mlogloss:0.53973\n",
      "[16]\tvalidation_0-mlogloss:0.53183\n",
      "[17]\tvalidation_0-mlogloss:0.52426\n",
      "[18]\tvalidation_0-mlogloss:0.51633\n",
      "[19]\tvalidation_0-mlogloss:0.50966\n",
      "[20]\tvalidation_0-mlogloss:0.50215\n",
      "[21]\tvalidation_0-mlogloss:0.49701\n",
      "[22]\tvalidation_0-mlogloss:0.49317\n",
      "[23]\tvalidation_0-mlogloss:0.48814\n",
      "[24]\tvalidation_0-mlogloss:0.48414\n",
      "[25]\tvalidation_0-mlogloss:0.47815\n",
      "[26]\tvalidation_0-mlogloss:0.47345\n",
      "[27]\tvalidation_0-mlogloss:0.46859\n",
      "[28]\tvalidation_0-mlogloss:0.46262\n",
      "[29]\tvalidation_0-mlogloss:0.46048\n",
      "[30]\tvalidation_0-mlogloss:0.45589\n",
      "[31]\tvalidation_0-mlogloss:0.45181\n",
      "[32]\tvalidation_0-mlogloss:0.44970\n",
      "[33]\tvalidation_0-mlogloss:0.44634\n",
      "[34]\tvalidation_0-mlogloss:0.44212\n",
      "[35]\tvalidation_0-mlogloss:0.43915\n",
      "[36]\tvalidation_0-mlogloss:0.43611\n",
      "[37]\tvalidation_0-mlogloss:0.43314\n",
      "[38]\tvalidation_0-mlogloss:0.43129\n",
      "[39]\tvalidation_0-mlogloss:0.42797\n",
      "[40]\tvalidation_0-mlogloss:0.42562\n",
      "[41]\tvalidation_0-mlogloss:0.42381\n",
      "[42]\tvalidation_0-mlogloss:0.42088\n",
      "[43]\tvalidation_0-mlogloss:0.41924\n",
      "[44]\tvalidation_0-mlogloss:0.41755\n",
      "[45]\tvalidation_0-mlogloss:0.41424\n",
      "[46]\tvalidation_0-mlogloss:0.41229\n",
      "[47]\tvalidation_0-mlogloss:0.41039\n",
      "[48]\tvalidation_0-mlogloss:0.40875\n",
      "[49]\tvalidation_0-mlogloss:0.40579\n",
      "[50]\tvalidation_0-mlogloss:0.40379\n",
      "[51]\tvalidation_0-mlogloss:0.40193\n",
      "[52]\tvalidation_0-mlogloss:0.40006\n",
      "[53]\tvalidation_0-mlogloss:0.39884\n",
      "[54]\tvalidation_0-mlogloss:0.39741\n",
      "[55]\tvalidation_0-mlogloss:0.39627\n",
      "[56]\tvalidation_0-mlogloss:0.39500\n",
      "[57]\tvalidation_0-mlogloss:0.39266\n",
      "[58]\tvalidation_0-mlogloss:0.39065\n",
      "[59]\tvalidation_0-mlogloss:0.38966\n",
      "[60]\tvalidation_0-mlogloss:0.38834\n",
      "[61]\tvalidation_0-mlogloss:0.38736\n",
      "[62]\tvalidation_0-mlogloss:0.38600\n",
      "[63]\tvalidation_0-mlogloss:0.38498\n",
      "[64]\tvalidation_0-mlogloss:0.38309\n",
      "[65]\tvalidation_0-mlogloss:0.38201\n",
      "[66]\tvalidation_0-mlogloss:0.38090\n",
      "[67]\tvalidation_0-mlogloss:0.38008\n",
      "[68]\tvalidation_0-mlogloss:0.38070\n",
      "[69]\tvalidation_0-mlogloss:0.37956\n",
      "[70]\tvalidation_0-mlogloss:0.37860\n",
      "[71]\tvalidation_0-mlogloss:0.37730\n",
      "[72]\tvalidation_0-mlogloss:0.37564\n",
      "[73]\tvalidation_0-mlogloss:0.37498\n",
      "[74]\tvalidation_0-mlogloss:0.37439\n",
      "[75]\tvalidation_0-mlogloss:0.37349\n",
      "[76]\tvalidation_0-mlogloss:0.37214\n",
      "[77]\tvalidation_0-mlogloss:0.37138\n",
      "[78]\tvalidation_0-mlogloss:0.37134\n",
      "[79]\tvalidation_0-mlogloss:0.37036\n",
      "[80]\tvalidation_0-mlogloss:0.36967\n",
      "[81]\tvalidation_0-mlogloss:0.36862\n",
      "[82]\tvalidation_0-mlogloss:0.36825\n",
      "[83]\tvalidation_0-mlogloss:0.36720\n",
      "[84]\tvalidation_0-mlogloss:0.36631\n",
      "[85]\tvalidation_0-mlogloss:0.36546\n",
      "[86]\tvalidation_0-mlogloss:0.36482\n",
      "[87]\tvalidation_0-mlogloss:0.36462\n",
      "[88]\tvalidation_0-mlogloss:0.36410\n",
      "[89]\tvalidation_0-mlogloss:0.36293\n",
      "[90]\tvalidation_0-mlogloss:0.36243\n",
      "[91]\tvalidation_0-mlogloss:0.36160\n",
      "[92]\tvalidation_0-mlogloss:0.36130\n",
      "[93]\tvalidation_0-mlogloss:0.36074\n",
      "[94]\tvalidation_0-mlogloss:0.35999\n",
      "[95]\tvalidation_0-mlogloss:0.35997\n",
      "[96]\tvalidation_0-mlogloss:0.35937\n",
      "[97]\tvalidation_0-mlogloss:0.35897\n",
      "[98]\tvalidation_0-mlogloss:0.35899\n",
      "[99]\tvalidation_0-mlogloss:0.35894\n",
      "Accuracy on test set:  0.8736979166666666\n",
      "Classification Report on test set: \n",
      "               precision    recall  f1-score   support\n",
      "\n",
      "           0       0.74      0.71      0.73       154\n",
      "           1       0.77      0.95      0.85       153\n",
      "           2       0.95      0.81      0.87       154\n",
      "           3       0.96      0.93      0.94       153\n",
      "           4       0.98      0.97      0.97       154\n",
      "\n",
      "    accuracy                           0.87       768\n",
      "   macro avg       0.88      0.87      0.87       768\n",
      "weighted avg       0.88      0.87      0.87       768\n",
      "\n"
     ]
    },
    {
     "data": {
      "image/png": "[encoded data removed]",
      "text/plain": [
       "<Figure size 1000x1000 with 2 Axes>"
      ]
     },
     "metadata": {},
     "output_type": "display_data"
    },
    {
     "name": "stdout",
     "output_type": "stream",
     "text": [
      "\n",
      "\n",
      "final accuracy:  0.8736979166666666\n",
      "[0]\tvalidation_0-mlogloss:1.26078\n",
      "[1]\tvalidation_0-mlogloss:1.06738\n",
      "[2]\tvalidation_0-mlogloss:0.93868\n",
      "[3]\tvalidation_0-mlogloss:0.84899\n",
      "[4]\tvalidation_0-mlogloss:0.78355\n",
      "[5]\tvalidation_0-mlogloss:0.72775\n",
      "[6]\tvalidation_0-mlogloss:0.68799\n",
      "[7]\tvalidation_0-mlogloss:0.65484\n",
      "[8]\tvalidation_0-mlogloss:0.62441\n",
      "[9]\tvalidation_0-mlogloss:0.59968\n",
      "[10]\tvalidation_0-mlogloss:0.57884\n",
      "[11]\tvalidation_0-mlogloss:0.56412\n",
      "[12]\tvalidation_0-mlogloss:0.55032\n",
      "[13]\tvalidation_0-mlogloss:0.53825\n",
      "[14]\tvalidation_0-mlogloss:0.52874\n",
      "[15]\tvalidation_0-mlogloss:0.52053\n",
      "[16]\tvalidation_0-mlogloss:0.51169\n",
      "[17]\tvalidation_0-mlogloss:0.50437\n",
      "[18]\tvalidation_0-mlogloss:0.49719\n",
      "[19]\tvalidation_0-mlogloss:0.48922\n",
      "[20]\tvalidation_0-mlogloss:0.48400\n",
      "[21]\tvalidation_0-mlogloss:0.47885\n",
      "[22]\tvalidation_0-mlogloss:0.47307\n",
      "[23]\tvalidation_0-mlogloss:0.46817\n",
      "[24]\tvalidation_0-mlogloss:0.46421\n",
      "[25]\tvalidation_0-mlogloss:0.45999\n",
      "[26]\tvalidation_0-mlogloss:0.45710\n",
      "[27]\tvalidation_0-mlogloss:0.45267\n",
      "[28]\tvalidation_0-mlogloss:0.44983\n",
      "[29]\tvalidation_0-mlogloss:0.44655\n",
      "[30]\tvalidation_0-mlogloss:0.44370\n",
      "[31]\tvalidation_0-mlogloss:0.43957\n",
      "[32]\tvalidation_0-mlogloss:0.43777\n",
      "[33]\tvalidation_0-mlogloss:0.43529\n",
      "[34]\tvalidation_0-mlogloss:0.43320\n",
      "[35]\tvalidation_0-mlogloss:0.43124\n",
      "[36]\tvalidation_0-mlogloss:0.42882\n",
      "[37]\tvalidation_0-mlogloss:0.42554\n",
      "[38]\tvalidation_0-mlogloss:0.42318\n",
      "[39]\tvalidation_0-mlogloss:0.42086\n",
      "[40]\tvalidation_0-mlogloss:0.41952\n",
      "[41]\tvalidation_0-mlogloss:0.41872\n",
      "[42]\tvalidation_0-mlogloss:0.41682\n",
      "[43]\tvalidation_0-mlogloss:0.41592\n",
      "[44]\tvalidation_0-mlogloss:0.41408\n",
      "[45]\tvalidation_0-mlogloss:0.41284\n",
      "[46]\tvalidation_0-mlogloss:0.41059\n",
      "[47]\tvalidation_0-mlogloss:0.40858\n",
      "[48]\tvalidation_0-mlogloss:0.40730\n",
      "[49]\tvalidation_0-mlogloss:0.40537\n",
      "[50]\tvalidation_0-mlogloss:0.40483\n",
      "[51]\tvalidation_0-mlogloss:0.40369\n",
      "[52]\tvalidation_0-mlogloss:0.40305\n",
      "[53]\tvalidation_0-mlogloss:0.40109\n",
      "[54]\tvalidation_0-mlogloss:0.39901\n",
      "[55]\tvalidation_0-mlogloss:0.39778\n",
      "[56]\tvalidation_0-mlogloss:0.39650\n",
      "[57]\tvalidation_0-mlogloss:0.39540\n",
      "[58]\tvalidation_0-mlogloss:0.39385\n",
      "[59]\tvalidation_0-mlogloss:0.39202\n",
      "[60]\tvalidation_0-mlogloss:0.39073\n",
      "[61]\tvalidation_0-mlogloss:0.38974\n",
      "[62]\tvalidation_0-mlogloss:0.38872\n",
      "[63]\tvalidation_0-mlogloss:0.38719\n",
      "[64]\tvalidation_0-mlogloss:0.38534\n",
      "[65]\tvalidation_0-mlogloss:0.38435\n",
      "[66]\tvalidation_0-mlogloss:0.38374\n",
      "[67]\tvalidation_0-mlogloss:0.38311\n",
      "[68]\tvalidation_0-mlogloss:0.38200\n",
      "[69]\tvalidation_0-mlogloss:0.38181\n",
      "[70]\tvalidation_0-mlogloss:0.38147\n",
      "[71]\tvalidation_0-mlogloss:0.37993\n",
      "[72]\tvalidation_0-mlogloss:0.37887\n",
      "[73]\tvalidation_0-mlogloss:0.37831\n",
      "[74]\tvalidation_0-mlogloss:0.37793\n",
      "[75]\tvalidation_0-mlogloss:0.37727\n",
      "[76]\tvalidation_0-mlogloss:0.37626\n",
      "[77]\tvalidation_0-mlogloss:0.37568\n",
      "[78]\tvalidation_0-mlogloss:0.37531\n",
      "[79]\tvalidation_0-mlogloss:0.37510\n",
      "[80]\tvalidation_0-mlogloss:0.37475\n",
      "[81]\tvalidation_0-mlogloss:0.37374\n",
      "[82]\tvalidation_0-mlogloss:0.37399\n",
      "[83]\tvalidation_0-mlogloss:0.37329\n",
      "[84]\tvalidation_0-mlogloss:0.37209\n",
      "[85]\tvalidation_0-mlogloss:0.37138\n",
      "[86]\tvalidation_0-mlogloss:0.37114\n",
      "[87]\tvalidation_0-mlogloss:0.37023\n",
      "[88]\tvalidation_0-mlogloss:0.37048\n",
      "[89]\tvalidation_0-mlogloss:0.36929\n",
      "[90]\tvalidation_0-mlogloss:0.36891\n",
      "[91]\tvalidation_0-mlogloss:0.36798\n",
      "[92]\tvalidation_0-mlogloss:0.36738\n",
      "[93]\tvalidation_0-mlogloss:0.36677\n",
      "[94]\tvalidation_0-mlogloss:0.36599\n",
      "[95]\tvalidation_0-mlogloss:0.36576\n",
      "[96]\tvalidation_0-mlogloss:0.36504\n",
      "[97]\tvalidation_0-mlogloss:0.36444\n",
      "[98]\tvalidation_0-mlogloss:0.36393\n",
      "[99]\tvalidation_0-mlogloss:0.36325\n",
      "Accuracy on test set:  0.8736979166666666\n",
      "Classification Report on test set: \n",
      "               precision    recall  f1-score   support\n",
      "\n",
      "           0       0.71      0.76      0.74       154\n",
      "           1       0.80      0.85      0.83       154\n",
      "           2       0.91      0.88      0.89       153\n",
      "           3       0.98      0.93      0.96       153\n",
      "           4       0.99      0.95      0.97       154\n",
      "\n",
      "    accuracy                           0.87       768\n",
      "   macro avg       0.88      0.87      0.88       768\n",
      "weighted avg       0.88      0.87      0.88       768\n",
      "\n"
     ]
    },
    {
     "data": {
      "image/png": "[encoded data removed]",
      "text/plain": [
       "<Figure size 1000x1000 with 2 Axes>"
      ]
     },
     "metadata": {},
     "output_type": "display_data"
    },
    {
     "name": "stdout",
     "output_type": "stream",
     "text": [
      "\n",
      "\n",
      "final accuracy:  0.8736979166666666\n",
      "[0]\tvalidation_0-mlogloss:1.27325\n",
      "[1]\tvalidation_0-mlogloss:1.09055\n",
      "[2]\tvalidation_0-mlogloss:0.95781\n",
      "[3]\tvalidation_0-mlogloss:0.86548\n",
      "[4]\tvalidation_0-mlogloss:0.79670\n",
      "[5]\tvalidation_0-mlogloss:0.74344\n",
      "[6]\tvalidation_0-mlogloss:0.69832\n",
      "[7]\tvalidation_0-mlogloss:0.66346\n",
      "[8]\tvalidation_0-mlogloss:0.63660\n",
      "[9]\tvalidation_0-mlogloss:0.61382\n",
      "[10]\tvalidation_0-mlogloss:0.59204\n",
      "[11]\tvalidation_0-mlogloss:0.57454\n",
      "[12]\tvalidation_0-mlogloss:0.55969\n",
      "[13]\tvalidation_0-mlogloss:0.54478\n",
      "[14]\tvalidation_0-mlogloss:0.53430\n",
      "[15]\tvalidation_0-mlogloss:0.52352\n",
      "[16]\tvalidation_0-mlogloss:0.51528\n",
      "[17]\tvalidation_0-mlogloss:0.50737\n",
      "[18]\tvalidation_0-mlogloss:0.49872\n",
      "[19]\tvalidation_0-mlogloss:0.49127\n",
      "[20]\tvalidation_0-mlogloss:0.48568\n",
      "[21]\tvalidation_0-mlogloss:0.47861\n",
      "[22]\tvalidation_0-mlogloss:0.47264\n",
      "[23]\tvalidation_0-mlogloss:0.46790\n",
      "[24]\tvalidation_0-mlogloss:0.46283\n",
      "[25]\tvalidation_0-mlogloss:0.45832\n",
      "[26]\tvalidation_0-mlogloss:0.45498\n",
      "[27]\tvalidation_0-mlogloss:0.45145\n",
      "[28]\tvalidation_0-mlogloss:0.44941\n",
      "[29]\tvalidation_0-mlogloss:0.44634\n",
      "[30]\tvalidation_0-mlogloss:0.44228\n",
      "[31]\tvalidation_0-mlogloss:0.43723\n",
      "[32]\tvalidation_0-mlogloss:0.43412\n",
      "[33]\tvalidation_0-mlogloss:0.43081\n",
      "[34]\tvalidation_0-mlogloss:0.42812\n",
      "[35]\tvalidation_0-mlogloss:0.42453\n",
      "[36]\tvalidation_0-mlogloss:0.42239\n",
      "[37]\tvalidation_0-mlogloss:0.41939\n",
      "[38]\tvalidation_0-mlogloss:0.41647\n",
      "[39]\tvalidation_0-mlogloss:0.41372\n",
      "[40]\tvalidation_0-mlogloss:0.41115\n",
      "[41]\tvalidation_0-mlogloss:0.41000\n",
      "[42]\tvalidation_0-mlogloss:0.40729\n",
      "[43]\tvalidation_0-mlogloss:0.40456\n",
      "[44]\tvalidation_0-mlogloss:0.40327\n",
      "[45]\tvalidation_0-mlogloss:0.40066\n",
      "[46]\tvalidation_0-mlogloss:0.39887\n",
      "[47]\tvalidation_0-mlogloss:0.39785\n",
      "[48]\tvalidation_0-mlogloss:0.39750\n",
      "[49]\tvalidation_0-mlogloss:0.39701\n",
      "[50]\tvalidation_0-mlogloss:0.39526\n",
      "[51]\tvalidation_0-mlogloss:0.39346\n",
      "[52]\tvalidation_0-mlogloss:0.39214\n",
      "[53]\tvalidation_0-mlogloss:0.39082\n",
      "[54]\tvalidation_0-mlogloss:0.38904\n",
      "[55]\tvalidation_0-mlogloss:0.38669\n",
      "[56]\tvalidation_0-mlogloss:0.38558\n",
      "[57]\tvalidation_0-mlogloss:0.38393\n",
      "[58]\tvalidation_0-mlogloss:0.38259\n",
      "[59]\tvalidation_0-mlogloss:0.38135\n",
      "[60]\tvalidation_0-mlogloss:0.38004\n",
      "[61]\tvalidation_0-mlogloss:0.37954\n",
      "[62]\tvalidation_0-mlogloss:0.37745\n",
      "[63]\tvalidation_0-mlogloss:0.37687\n",
      "[64]\tvalidation_0-mlogloss:0.37602\n",
      "[65]\tvalidation_0-mlogloss:0.37496\n",
      "[66]\tvalidation_0-mlogloss:0.37356\n",
      "[67]\tvalidation_0-mlogloss:0.37266\n",
      "[68]\tvalidation_0-mlogloss:0.37175\n",
      "[69]\tvalidation_0-mlogloss:0.36932\n",
      "[70]\tvalidation_0-mlogloss:0.36881\n",
      "[71]\tvalidation_0-mlogloss:0.36727\n",
      "[72]\tvalidation_0-mlogloss:0.36676\n",
      "[73]\tvalidation_0-mlogloss:0.36656\n",
      "[74]\tvalidation_0-mlogloss:0.36532\n",
      "[75]\tvalidation_0-mlogloss:0.36425\n",
      "[76]\tvalidation_0-mlogloss:0.36343\n",
      "[77]\tvalidation_0-mlogloss:0.36233\n",
      "[78]\tvalidation_0-mlogloss:0.36116\n",
      "[79]\tvalidation_0-mlogloss:0.35976\n",
      "[80]\tvalidation_0-mlogloss:0.35908\n",
      "[81]\tvalidation_0-mlogloss:0.35901\n",
      "[82]\tvalidation_0-mlogloss:0.35910\n",
      "[83]\tvalidation_0-mlogloss:0.35857\n",
      "[84]\tvalidation_0-mlogloss:0.35773\n",
      "[85]\tvalidation_0-mlogloss:0.35706\n",
      "[86]\tvalidation_0-mlogloss:0.35672\n",
      "[87]\tvalidation_0-mlogloss:0.35603\n",
      "[88]\tvalidation_0-mlogloss:0.35590\n",
      "[89]\tvalidation_0-mlogloss:0.35529\n",
      "[90]\tvalidation_0-mlogloss:0.35465\n",
      "[91]\tvalidation_0-mlogloss:0.35415\n",
      "[92]\tvalidation_0-mlogloss:0.35385\n",
      "[93]\tvalidation_0-mlogloss:0.35342\n",
      "[94]\tvalidation_0-mlogloss:0.35251\n",
      "[95]\tvalidation_0-mlogloss:0.35161\n",
      "[96]\tvalidation_0-mlogloss:0.35061\n",
      "[97]\tvalidation_0-mlogloss:0.34984\n",
      "[98]\tvalidation_0-mlogloss:0.34907\n",
      "[99]\tvalidation_0-mlogloss:0.34958\n",
      "Accuracy on test set:  0.8776041666666666\n",
      "Classification Report on test set: \n",
      "               precision    recall  f1-score   support\n",
      "\n",
      "           0       0.75      0.72      0.74       153\n",
      "           1       0.77      0.92      0.84       154\n",
      "           2       0.95      0.89      0.92       153\n",
      "           3       0.96      0.90      0.93       154\n",
      "           4       0.99      0.96      0.97       154\n",
      "\n",
      "    accuracy                           0.88       768\n",
      "   macro avg       0.88      0.88      0.88       768\n",
      "weighted avg       0.88      0.88      0.88       768\n",
      "\n"
     ]
    },
    {
     "data": {
      "image/png": "[encoded data removed]",
      "text/plain": [
       "<Figure size 1000x1000 with 2 Axes>"
      ]
     },
     "metadata": {},
     "output_type": "display_data"
    },
    {
     "name": "stdout",
     "output_type": "stream",
     "text": [
      "\n",
      "\n",
      "final accuracy:  0.8776041666666666\n",
      "[0]\tvalidation_0-mlogloss:1.26663\n",
      "[1]\tvalidation_0-mlogloss:1.07636\n",
      "[2]\tvalidation_0-mlogloss:0.94974\n",
      "[3]\tvalidation_0-mlogloss:0.85306\n",
      "[4]\tvalidation_0-mlogloss:0.78295\n",
      "[5]\tvalidation_0-mlogloss:0.72450\n",
      "[6]\tvalidation_0-mlogloss:0.67949\n",
      "[7]\tvalidation_0-mlogloss:0.64463\n",
      "[8]\tvalidation_0-mlogloss:0.61373\n",
      "[9]\tvalidation_0-mlogloss:0.58881\n",
      "[10]\tvalidation_0-mlogloss:0.56994\n",
      "[11]\tvalidation_0-mlogloss:0.55243\n",
      "[12]\tvalidation_0-mlogloss:0.53748\n",
      "[13]\tvalidation_0-mlogloss:0.52853\n",
      "[14]\tvalidation_0-mlogloss:0.51661\n",
      "[15]\tvalidation_0-mlogloss:0.50518\n",
      "[16]\tvalidation_0-mlogloss:0.49825\n",
      "[17]\tvalidation_0-mlogloss:0.48974\n",
      "[18]\tvalidation_0-mlogloss:0.48427\n",
      "[19]\tvalidation_0-mlogloss:0.47769\n",
      "[20]\tvalidation_0-mlogloss:0.47007\n",
      "[21]\tvalidation_0-mlogloss:0.46452\n",
      "[22]\tvalidation_0-mlogloss:0.45924\n",
      "[23]\tvalidation_0-mlogloss:0.45221\n",
      "[24]\tvalidation_0-mlogloss:0.44847\n",
      "[25]\tvalidation_0-mlogloss:0.44388\n",
      "[26]\tvalidation_0-mlogloss:0.43965\n",
      "[27]\tvalidation_0-mlogloss:0.43493\n",
      "[28]\tvalidation_0-mlogloss:0.43009\n",
      "[29]\tvalidation_0-mlogloss:0.42615\n",
      "[30]\tvalidation_0-mlogloss:0.42284\n",
      "[31]\tvalidation_0-mlogloss:0.41988\n",
      "[32]\tvalidation_0-mlogloss:0.41644\n",
      "[33]\tvalidation_0-mlogloss:0.41377\n",
      "[34]\tvalidation_0-mlogloss:0.40981\n",
      "[35]\tvalidation_0-mlogloss:0.40681\n",
      "[36]\tvalidation_0-mlogloss:0.40389\n",
      "[37]\tvalidation_0-mlogloss:0.40138\n",
      "[38]\tvalidation_0-mlogloss:0.39918\n",
      "[39]\tvalidation_0-mlogloss:0.39647\n",
      "[40]\tvalidation_0-mlogloss:0.39395\n",
      "[41]\tvalidation_0-mlogloss:0.39146\n",
      "[42]\tvalidation_0-mlogloss:0.38988\n",
      "[43]\tvalidation_0-mlogloss:0.38848\n",
      "[44]\tvalidation_0-mlogloss:0.38643\n",
      "[45]\tvalidation_0-mlogloss:0.38422\n",
      "[46]\tvalidation_0-mlogloss:0.38236\n",
      "[47]\tvalidation_0-mlogloss:0.38107\n",
      "[48]\tvalidation_0-mlogloss:0.37957\n",
      "[49]\tvalidation_0-mlogloss:0.37818\n",
      "[50]\tvalidation_0-mlogloss:0.37708\n",
      "[51]\tvalidation_0-mlogloss:0.37616\n",
      "[52]\tvalidation_0-mlogloss:0.37529\n",
      "[53]\tvalidation_0-mlogloss:0.37355\n",
      "[54]\tvalidation_0-mlogloss:0.37299\n",
      "[55]\tvalidation_0-mlogloss:0.37226\n",
      "[56]\tvalidation_0-mlogloss:0.37097\n",
      "[57]\tvalidation_0-mlogloss:0.36951\n",
      "[58]\tvalidation_0-mlogloss:0.36890\n",
      "[59]\tvalidation_0-mlogloss:0.36703\n",
      "[60]\tvalidation_0-mlogloss:0.36513\n",
      "[61]\tvalidation_0-mlogloss:0.36436\n",
      "[62]\tvalidation_0-mlogloss:0.36384\n",
      "[63]\tvalidation_0-mlogloss:0.36329\n",
      "[64]\tvalidation_0-mlogloss:0.36240\n",
      "[65]\tvalidation_0-mlogloss:0.36181\n",
      "[66]\tvalidation_0-mlogloss:0.36082\n",
      "[67]\tvalidation_0-mlogloss:0.36070\n",
      "[68]\tvalidation_0-mlogloss:0.35985\n",
      "[69]\tvalidation_0-mlogloss:0.35939\n",
      "[70]\tvalidation_0-mlogloss:0.35813\n",
      "[71]\tvalidation_0-mlogloss:0.35795\n",
      "[72]\tvalidation_0-mlogloss:0.35703\n",
      "[73]\tvalidation_0-mlogloss:0.35582\n",
      "[74]\tvalidation_0-mlogloss:0.35451\n",
      "[75]\tvalidation_0-mlogloss:0.35278\n",
      "[76]\tvalidation_0-mlogloss:0.35286\n",
      "[77]\tvalidation_0-mlogloss:0.35179\n",
      "[78]\tvalidation_0-mlogloss:0.35220\n",
      "[79]\tvalidation_0-mlogloss:0.35143\n",
      "[80]\tvalidation_0-mlogloss:0.35070\n",
      "[81]\tvalidation_0-mlogloss:0.35015\n",
      "[82]\tvalidation_0-mlogloss:0.34903\n",
      "[83]\tvalidation_0-mlogloss:0.34851\n",
      "[84]\tvalidation_0-mlogloss:0.34800\n",
      "[85]\tvalidation_0-mlogloss:0.34671\n",
      "[86]\tvalidation_0-mlogloss:0.34615\n",
      "[87]\tvalidation_0-mlogloss:0.34567\n",
      "[88]\tvalidation_0-mlogloss:0.34492\n",
      "[89]\tvalidation_0-mlogloss:0.34445\n",
      "[90]\tvalidation_0-mlogloss:0.34366\n",
      "[91]\tvalidation_0-mlogloss:0.34368\n",
      "[92]\tvalidation_0-mlogloss:0.34317\n",
      "[93]\tvalidation_0-mlogloss:0.34297\n",
      "[94]\tvalidation_0-mlogloss:0.34252\n",
      "[95]\tvalidation_0-mlogloss:0.34191\n",
      "[96]\tvalidation_0-mlogloss:0.34171\n",
      "[97]\tvalidation_0-mlogloss:0.34118\n",
      "[98]\tvalidation_0-mlogloss:0.34021\n",
      "[99]\tvalidation_0-mlogloss:0.33990\n",
      "Accuracy on test set:  0.87890625\n",
      "Classification Report on test set: \n",
      "               precision    recall  f1-score   support\n",
      "\n",
      "           0       0.77      0.69      0.73       153\n",
      "           1       0.75      0.91      0.82       154\n",
      "           2       0.95      0.93      0.94       154\n",
      "           3       0.95      0.90      0.92       154\n",
      "           4       1.00      0.97      0.98       153\n",
      "\n",
      "    accuracy                           0.88       768\n",
      "   macro avg       0.88      0.88      0.88       768\n",
      "weighted avg       0.88      0.88      0.88       768\n",
      "\n"
     ]
    },
    {
     "data": {
      "image/png": "[encoded data removed]",
      "text/plain": [
       "<Figure size 1000x1000 with 2 Axes>"
      ]
     },
     "metadata": {},
     "output_type": "display_data"
    },
    {
     "name": "stdout",
     "output_type": "stream",
     "text": [
      "\n",
      "\n",
      "final accuracy:  0.87890625\n"
     ]
    }
   ],
   "source": [
    "## using stratified cross validation for better results on XGBoost model\n",
    "\n",
    "from sklearn.model_selection import StratifiedKFold\n",
    "\n",
    "skf = StratifiedKFold(n_splits = 5, shuffle = True, random_state = 42)\n",
    "\n",
    "for train_index, test_index in skf.split(X, y):\n",
    "    X_train, X_test = X[train_index], X[test_index]\n",
    "    y_train, y_test = y[train_index], y[test_index]\n",
    "    \n",
    "    model2.fit(X_train, y_train, sample_weight = y_train.map(class_weights), eval_set = [(X_test, y_test)])\n",
    "    \n",
    "    y_pred = model2.predict(X_test)\n",
    "    \n",
    "    print(\"Accuracy on test set: \", accuracy_score(y_test, y_pred))\n",
    "    \n",
    "    print(\"Classification Report on test set: \\n\", classification_report(y_test, y_pred))\n",
    "\n",
    "    ## plotting the confusion matrix\n",
    "    xm = confusion_matrix(y_test, y_pred)\n",
    "    plt.figure(figsize = (10, 10))\n",
    "    sns.heatmap(xm, annot = True, fmt = \"d\")\n",
    "    plt.show()\n",
    "    \n",
    "    print(\"\\n\")\n",
    "\n",
    "    print(\"final accuracy: \", accuracy_score(y_test, y_pred))\n",
    "    "
   ]
  },
  {
   "cell_type": "code",
   "execution_count": 57,
   "metadata": {},
   "outputs": [
    {
     "data": {
      "text/plain": [
       "array([0])"
      ]
     },
     "execution_count": 57,
     "metadata": {},
     "output_type": "execute_result"
    }
   ],
   "source": [
    "## using the trained model to predict the impact of a sentence\n",
    "\n",
    "def predict_impact(sentence):\n",
    "    sentence = vectorizer.transform([sentence])\n",
    "    impact = model2.predict(sentence)\n",
    "    return impact\n",
    "\n",
    "predict_impact(\"are you interested in science? you should watch this movie\")"
   ]
  },
  {
   "cell_type": "code",
   "execution_count": null,
   "metadata": {},
   "outputs": [],
   "source": []
  }
 ],
 "metadata": {
  "kernelspec": {
   "display_name": "Python 3",
   "language": "python",
   "name": "python3"
  },
  "language_info": {
   "codemirror_mode": {
    "name": "ipython",
    "version": 3
   },
   "file_extension": ".py",
   "mimetype": "text/x-python",
   "name": "python",
   "nbconvert_exporter": "python",
   "pygments_lexer": "ipython3",
   "version": "3.10.9"
  },
  "orig_nbformat": 4,
  "vscode": {
   "interpreter": {
    "hash": "b0fa6594d8f4cbf19f97940f81e996739fb7646882a419484c72d19e05852a7e"
   }
  }
 },
 "nbformat": 4,
 "nbformat_minor": 2
}
